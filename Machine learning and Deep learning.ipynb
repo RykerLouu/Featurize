{
 "cells": [
  {
   "cell_type": "code",
   "execution_count": 2,
   "id": "c52ed50b",
   "metadata": {},
   "outputs": [
    {
     "name": "stdout",
     "output_type": "stream",
     "text": [
      "Looking in indexes: https://mirrors.aliyun.com/pypi/simple\n",
      "Collecting xgboost\n",
      "  Downloading https://mirrors.aliyun.com/pypi/packages/bb/35/169eec194bf1f9ef52ed670f5032ef2abaf6ed285cfadcb4b6026b800fc9/xgboost-1.4.2-py3-none-manylinux2010_x86_64.whl (166.7 MB)\n",
      "\u001b[K     |████████████████████████████████| 166.7 MB 102 kB/s eta 0:00:012     |██████████████████████████▎     | 137.2 MB 17.0 MB/s eta 0:00:02     |███████████████████████████▊    | 144.2 MB 4.6 MB/s eta 0:00:05\n",
      "\u001b[?25hRequirement already satisfied: numpy in /environment/python/versions/miniconda3-4.7.12/lib/python3.7/site-packages (from xgboost) (1.19.5)\n",
      "Requirement already satisfied: scipy in /environment/python/versions/miniconda3-4.7.12/lib/python3.7/site-packages (from xgboost) (1.5.2)\n",
      "Installing collected packages: xgboost\n",
      "Successfully installed xgboost-1.4.2\n",
      "Note: you may need to restart the kernel to use updated packages.\n"
     ]
    }
   ],
   "source": [
    "pip install xgboost"
   ]
  },
  {
   "cell_type": "code",
   "execution_count": 4,
   "id": "bb88fba2",
   "metadata": {},
   "outputs": [
    {
     "name": "stdout",
     "output_type": "stream",
     "text": [
      "Looking in indexes: https://mirrors.aliyun.com/pypi/simple\n",
      "Collecting gensim\n",
      "  Downloading https://mirrors.aliyun.com/pypi/packages/44/52/f1417772965652d4ca6f901515debcd9d6c5430969e8c02ee7737e6de61c/gensim-4.0.1-cp37-cp37m-manylinux1_x86_64.whl (23.9 MB)\n",
      "\u001b[K     |████████████████████████████████| 23.9 MB 7.3 MB/s eta 0:00:01     |██████████████████████▌         | 16.8 MB 371 kB/s eta 0:00:20\n",
      "\u001b[?25hRequirement already satisfied: scipy>=0.18.1 in /environment/python/versions/miniconda3-4.7.12/lib/python3.7/site-packages (from gensim) (1.5.2)\n",
      "Collecting smart-open>=1.8.1\n",
      "  Downloading https://mirrors.aliyun.com/pypi/packages/36/fd/3880dea47d6fe06d1cea561c93e077f0b131caf8193801d20a0a16d5e774/smart_open-5.2.0-py3-none-any.whl (58 kB)\n",
      "\u001b[K     |████████████████████████████████| 58 kB 43 kB/s eta 0:00:0101\n",
      "\u001b[?25hRequirement already satisfied: numpy>=1.11.3 in /environment/python/versions/miniconda3-4.7.12/lib/python3.7/site-packages (from gensim) (1.19.5)\n",
      "Installing collected packages: smart-open, gensim\n",
      "Successfully installed gensim-4.0.1 smart-open-5.2.0\n",
      "Note: you may need to restart the kernel to use updated packages.\n"
     ]
    }
   ],
   "source": [
    "pip install gensim"
   ]
  },
  {
   "cell_type": "code",
   "execution_count": 5,
   "id": "7648eacd",
   "metadata": {},
   "outputs": [
    {
     "name": "stdout",
     "output_type": "stream",
     "text": [
      "Looking in indexes: https://mirrors.aliyun.com/pypi/simple\n",
      "Requirement already satisfied: python-Levenshtein in /environment/python/versions/miniconda3-4.7.12/lib/python3.7/site-packages (0.12.2)\n",
      "Requirement already satisfied: setuptools in /environment/python/versions/miniconda3-4.7.12/lib/python3.7/site-packages (from python-Levenshtein) (41.4.0)\n",
      "Note: you may need to restart the kernel to use updated packages.\n"
     ]
    }
   ],
   "source": [
    "pip install python-Levenshtein"
   ]
  },
  {
   "cell_type": "code",
   "execution_count": 6,
   "id": "7c077885",
   "metadata": {},
   "outputs": [],
   "source": [
    "import pandas as pd\n",
    "import time\n",
    "TRAIN_PATH = \"dataset/yelp_review_full/train.csv\"\n",
    "TEST_PATH = \"dataset/yelp_review_full/test.csv\"\n",
    "df_train = pd.read_csv(TRAIN_PATH, header=None)\n",
    "df_test = pd.read_csv(TEST_PATH, header=None)"
   ]
  },
  {
   "cell_type": "markdown",
   "id": "24f2b170",
   "metadata": {
    "toc-hr-collapsed": true
   },
   "source": [
    "# Bayes"
   ]
  },
  {
   "cell_type": "code",
   "execution_count": 3,
   "id": "49d42555",
   "metadata": {},
   "outputs": [],
   "source": [
    "t = time.perf_counter()\n",
    "from sklearn.feature_extraction.text import CountVectorizer\n",
    "vectorizer = CountVectorizer(token_pattern='\\[?\\w+\\]?')\n",
    "X_train = vectorizer.fit_transform(df_train[1])\n",
    "y_train = df_train[0]\n",
    "t = time.perf_counter()-t\n",
    "print(t)"
   ]
  },
  {
   "cell_type": "code",
   "execution_count": 4,
   "id": "6ed70217",
   "metadata": {},
   "outputs": [],
   "source": [
    "X_test = vectorizer.transform(df_test[1])\n",
    "y_test = df_test[0]"
   ]
  },
  {
   "cell_type": "code",
   "execution_count": 5,
   "id": "8d1825c7",
   "metadata": {},
   "outputs": [
    {
     "data": {
      "text/plain": [
       "MultinomialNB(alpha=1.0, class_prior=None, fit_prior=True)"
      ]
     },
     "execution_count": 5,
     "metadata": {},
     "output_type": "execute_result"
    }
   ],
   "source": [
    "from sklearn.naive_bayes import MultinomialNB\n",
    "clf = MultinomialNB()\n",
    "clf.fit(X_train, y_train)"
   ]
  },
  {
   "cell_type": "code",
   "execution_count": 6,
   "id": "4ae9db9f",
   "metadata": {},
   "outputs": [],
   "source": [
    "# Predicting results with the model on the test set\n",
    "y_pred = clf.predict(X_test)"
   ]
  },
  {
   "cell_type": "code",
   "execution_count": 7,
   "id": "7d01a022",
   "metadata": {},
   "outputs": [
    {
     "name": "stdout",
     "output_type": "stream",
     "text": [
      "              precision    recall  f1-score   support\n",
      "\n",
      "           1       0.61      0.65      0.63     10000\n",
      "           2       0.45      0.43      0.44     10000\n",
      "           3       0.46      0.47      0.47     10000\n",
      "           4       0.48      0.51      0.49     10000\n",
      "           5       0.67      0.59      0.63     10000\n",
      "\n",
      "    accuracy                           0.53     50000\n",
      "   macro avg       0.53      0.53      0.53     50000\n",
      "weighted avg       0.53      0.53      0.53     50000\n",
      "\n",
      "accuracy: 0.53104\n"
     ]
    }
   ],
   "source": [
    "# Test set effect test\n",
    "from sklearn import metrics\n",
    "\n",
    "print(metrics.classification_report(y_test, y_pred))\n",
    "print(\"accuracy:\", metrics.accuracy_score(y_test, y_pred))"
   ]
  },
  {
   "cell_type": "markdown",
   "id": "0c8012b1",
   "metadata": {},
   "source": [
    "# SVM"
   ]
  },
  {
   "cell_type": "code",
   "execution_count": 11,
   "id": "e0d35b2e",
   "metadata": {},
   "outputs": [],
   "source": [
    "from sklearn.feature_extraction.text import TfidfVectorizer\n",
    "vectorizer = TfidfVectorizer(token_pattern='\\[?\\w+\\]?')\n",
    "X_train = vectorizer.fit_transform(df_train[1])\n",
    "y_train = df_train[0]"
   ]
  },
  {
   "cell_type": "code",
   "execution_count": 12,
   "id": "1667a3e1",
   "metadata": {},
   "outputs": [],
   "source": [
    "X_test = vectorizer.transform(df_test[1])\n",
    "y_test = df_test[0]"
   ]
  },
  {
   "cell_type": "code",
   "execution_count": null,
   "id": "6bbac54d",
   "metadata": {},
   "outputs": [],
   "source": [
    "from sklearn import svm\n",
    "t = time.perf_counter()\n",
    "clf = svm.SVC(gamma='scale')\n",
    "clf.fit(X_train, y_train)\n",
    "t = time.perf_counter()-t\n",
    "print(t)"
   ]
  },
  {
   "cell_type": "code",
   "execution_count": null,
   "id": "c5ffe3b9",
   "metadata": {},
   "outputs": [],
   "source": [
    "# Predict results with the model on the test set\n",
    "y_pred = clf.predict(X_test)"
   ]
  },
  {
   "cell_type": "code",
   "execution_count": null,
   "id": "7eef7c0d",
   "metadata": {},
   "outputs": [],
   "source": [
    "# Test set effect test\n",
    "from sklearn import metrics\n",
    "print(metrics.classification_report(y_test, y_pred))\n",
    "print(\"accuracy:\", metrics.accuracy_score(y_test, y_pred))"
   ]
  },
  {
   "cell_type": "markdown",
   "id": "0583f297",
   "metadata": {},
   "source": [
    "# XGboost"
   ]
  },
  {
   "cell_type": "code",
   "execution_count": 6,
   "id": "a5ae4cd7",
   "metadata": {},
   "outputs": [],
   "source": [
    "from sklearn.feature_extraction.text import CountVectorizer\n",
    "vectorizer = CountVectorizer(token_pattern='\\[?\\w+\\]?', max_features=2000)\n",
    "X_train = vectorizer.fit_transform(df_train[1])\n",
    "y_train = df_train[0]"
   ]
  },
  {
   "cell_type": "code",
   "execution_count": 7,
   "id": "7ee13d8d",
   "metadata": {},
   "outputs": [],
   "source": [
    "X_test = vectorizer.transform(df_test[1])\n",
    "y_test = df_test[0]"
   ]
  },
  {
   "cell_type": "code",
   "execution_count": 8,
   "id": "63e7bd17",
   "metadata": {},
   "outputs": [],
   "source": [
    "import xgboost as xgb\n",
    "param = {\n",
    "    'booster':'gbtree',\n",
    "    'max_depth': 6, \n",
    "    'colsample_bytree': 0.8,\n",
    "    'objective': 'multi:softmax',\n",
    "    'eval_metric': 'error',\n",
    "    'eta': 0.3,\n",
    "    'nthread': 10,\n",
    "    'num_class': 6,\n",
    "}\n",
    "dmatrix = xgb.DMatrix(X_train, label=y_train)\n",
    "model = xgb.train(param, dmatrix, num_boost_round=200)"
   ]
  },
  {
   "cell_type": "code",
   "execution_count": 9,
   "id": "74d1c848",
   "metadata": {},
   "outputs": [],
   "source": [
    "# Predict results with the model on the test set\n",
    "dmatrix = xgb.DMatrix(X_test)\n",
    "y_pred = model.predict(dmatrix)"
   ]
  },
  {
   "cell_type": "code",
   "execution_count": 10,
   "id": "9203aff6",
   "metadata": {},
   "outputs": [
    {
     "name": "stdout",
     "output_type": "stream",
     "text": [
      "              precision    recall  f1-score   support\n",
      "\n",
      "           1       0.68      0.74      0.71     10000\n",
      "           2       0.52      0.49      0.50     10000\n",
      "           3       0.52      0.48      0.50     10000\n",
      "           4       0.49      0.47      0.48     10000\n",
      "           5       0.64      0.69      0.67     10000\n",
      "\n",
      "    accuracy                           0.57     50000\n",
      "   macro avg       0.57      0.57      0.57     50000\n",
      "weighted avg       0.57      0.57      0.57     50000\n",
      "\n",
      "accuracy: 0.57428\n"
     ]
    }
   ],
   "source": [
    "# Test set effect test\n",
    "from sklearn import metrics\n",
    "print(metrics.classification_report(y_test, y_pred))\n",
    "print(\"accuracy:\", metrics.accuracy_score(y_test, y_pred))"
   ]
  },
  {
   "cell_type": "markdown",
   "id": "fff14558",
   "metadata": {},
   "source": [
    "# LSTM"
   ]
  },
  {
   "cell_type": "code",
   "execution_count": 7,
   "id": "ec8d0ca3",
   "metadata": {},
   "outputs": [
    {
     "data": {
      "text/plain": [
       "0    [dr., goldberg, offers, everything, i, look, f...\n",
       "1    [Unfortunately,, the, frustration, of, being, ...\n",
       "2    [Been, going, to, Dr., Goldberg, for, over, 10...\n",
       "3    [Got, a, letter, in, the, mail, last, week, th...\n",
       "4    [I, don't, know, what, Dr., Goldberg, was, lik...\n",
       "Name: 1, dtype: object"
      ]
     },
     "execution_count": 7,
     "metadata": {},
     "output_type": "execute_result"
    }
   ],
   "source": [
    "# Input format required by word2vec: list(word)\n",
    "wv_input = df_train[1].map(lambda s: s.split(\" \"))\n",
    "wv_input.head()"
   ]
  },
  {
   "cell_type": "code",
   "execution_count": null,
   "id": "251e5c8c",
   "metadata": {},
   "outputs": [
    {
     "name": "stderr",
     "output_type": "stream",
     "text": [
      "/environment/python/versions/miniconda3-4.7.12/lib/python3.7/site-packages/gensim/similarities/__init__.py:15: UserWarning: The gensim.similarities.levenshtein submodule is disabled, because the optional Levenshtein package <https://pypi.org/project/python-Levenshtein/> is unavailable. Install Levenhstein (e.g. `pip install python-Levenshtein`) to suppress this warning.\n",
      "  warnings.warn(msg)\n"
     ]
    }
   ],
   "source": [
    "from gensim import models\n",
    "# Word2Vec\n",
    "t = time.perf_counter()\n",
    "word2vec = models.Word2Vec(wv_input, \n",
    "                           vector_size=64,   # Word vector dimension\n",
    "                           min_count=1,      # Minimum word frequency, because of the small amount of data, here card 1\n",
    "                           epochs=1000)      # Ieration rounds\n",
    "t = time.perf_counter()-t\n",
    "print(t)"
   ]
  },
  {
   "cell_type": "code",
   "execution_count": null,
   "id": "f360e793",
   "metadata": {},
   "outputs": [],
   "source": [
    "import torch\n",
    "from torch import nn\n",
    "from torch.nn.utils.rnn import pad_sequence, pack_padded_sequence,pad_packed_sequence\n",
    "from torch.utils.data import Dataset, DataLoader\n",
    "device = torch.device(\"cuda\" if torch.cuda.is_available() else \"cpu\")"
   ]
  },
  {
   "cell_type": "code",
   "execution_count": null,
   "id": "95cf6ff5",
   "metadata": {},
   "outputs": [],
   "source": [
    "# Hyperparameters\n",
    "learning_rate = 5e-4\n",
    "input_size = 768\n",
    "num_epoches = 5\n",
    "batch_size = 100\n",
    "embed_size = 64\n",
    "hidden_size = 64\n",
    "num_layers = 2"
   ]
  },
  {
   "cell_type": "code",
   "execution_count": null,
   "id": "21a22767",
   "metadata": {},
   "outputs": [],
   "source": [
    "# Datasets\n",
    "class MyDataset(Dataset):\n",
    "    def __init__(self, df):\n",
    "        self.data = []\n",
    "        self.label = df[0].tolist()\n",
    "        for s in df[1].tolist():\n",
    "            vectors = []\n",
    "            for w in s.split(\" \"):\n",
    "                if w in word2vec.wv.key_to_index:\n",
    "                    vectors.append(word2vec.wv[w])\n",
    "            vectors = torch.Tensor(vectors)\n",
    "            self.data.append(vectors)\n",
    "    \n",
    "    def __getitem__(self, index):\n",
    "        data = self.data[index]\n",
    "        label = self.label[index]\n",
    "        return data, label\n",
    "\n",
    "    def __len__(self):\n",
    "        return len(self.label)\n",
    "\n",
    "def collate_fn(data):\n",
    "    data.sort(key=lambda x: len(x[0]), reverse=True) \n",
    "    data_length = [len(sq[0]) for sq in data]\n",
    "    x = [i[0] for i in data]\n",
    "    y = [i[1] for i in data]\n",
    "    data = pad_sequence(x, batch_first=True, padding_value=0)   # Necessary operations for processing variable-length sequences with RNN\n",
    "    return data, torch.tensor(y, dtype=torch.float32), data_length\n",
    "\n",
    "\n",
    "# Training set\n",
    "train_data = MyDataset(df_train)\n",
    "train_loader = DataLoader(train_data, batch_size=batch_size, collate_fn=collate_fn, shuffle=True)\n",
    "\n",
    "# Test sets\n",
    "test_data = MyDataset(df_test)\n",
    "test_loader = DataLoader(test_data, batch_size=batch_size, collate_fn=collate_fn, shuffle=True)"
   ]
  },
  {
   "cell_type": "code",
   "execution_count": null,
   "id": "626a22e2",
   "metadata": {},
   "outputs": [],
   "source": [
    "# Network structure\n",
    "class LSTM(nn.Module):\n",
    "    def __init__(self, input_size, hidden_size, num_layers):\n",
    "        super(LSTM, self).__init__()\n",
    "        self.hidden_size = hidden_size\n",
    "        self.num_layers = num_layers\n",
    "        self.lstm = nn.LSTM(input_size, hidden_size, num_layers, batch_first=True, bidirectional=True)\n",
    "        self.fc = nn.Linear(hidden_size * 2, 1)  # Bidirectional, output dimension to be *2\n",
    "        self.sigmoid = nn.Sigmoid()\n",
    "\n",
    "    def forward(self, x, lengths):\n",
    "        h0 = torch.zeros(self.num_layers * 2, x.size(0), self.hidden_size).to(device)  # Two-way, first dimension to be *2\n",
    "        c0 = torch.zeros(self.num_layers * 2, x.size(0), self.hidden_size).to(device)\n",
    "        \n",
    "        packed_input = torch.nn.utils.rnn.pack_padded_sequence(input=x, lengths=lengths, batch_first=True)\n",
    "        packed_out, (h_n, h_c) = self.lstm(packed_input, (h0, c0))\n",
    "\n",
    "        lstm_out = torch.cat([h_n[-2], h_n[-1]], 1)  # Bidirectional, so the last two dimensions are stitched together to give the output of the last time step\n",
    "        out = self.fc(lstm_out)\n",
    "        out = self.sigmoid(out)\n",
    "        return out\n",
    "\n",
    "lstm = LSTM(embed_size, hidden_size, num_layers)"
   ]
  },
  {
   "cell_type": "code",
   "execution_count": null,
   "id": "8168c316",
   "metadata": {},
   "outputs": [],
   "source": [
    "from sklearn import metrics\n",
    "\n",
    "# In test set effect test\n",
    "def test():\n",
    "    y_pred, y_true = [], []\n",
    "\n",
    "    with torch.no_grad():\n",
    "        for x, labels, lengths in test_loader:\n",
    "            x = x.to(device)\n",
    "            outputs = lstm(x, lengths)          # Forward propagation\n",
    "            outputs = outputs.view(-1)          # Flattening the output\n",
    "            y_pred.append(outputs)\n",
    "            y_true.append(labels)\n",
    "\n",
    "    y_prob = torch.cat(y_pred)\n",
    "    y_true = torch.cat(y_true)\n",
    "    y_pred = y_prob.clone()\n",
    "    print(y_pred)\n",
    "    print(metrics.classification_report(y_true, y_pred))\n",
    "    print(\"accuracy:\", metrics.accuracy_score(y_true, y_pred))"
   ]
  },
  {
   "cell_type": "code",
   "execution_count": null,
   "id": "7f91db98",
   "metadata": {},
   "outputs": [],
   "source": [
    "# Define loss functions and optimisers\n",
    "criterion = nn.BCELoss()\n",
    "optimizer = torch.optim.Adam(lstm.parameters(), lr=learning_rate)"
   ]
  },
  {
   "cell_type": "code",
   "execution_count": null,
   "id": "c6d29f47",
   "metadata": {},
   "outputs": [],
   "source": [
    "# Iterative training\n",
    "t = time.perf_counter()\n",
    "for epoch in range(num_epoches):\n",
    "    total_loss = 0\n",
    "    for i, (x, labels, lengths) in enumerate(train_loader):\n",
    "        x = x.to(device)\n",
    "        labels = labels.to(device)\n",
    "        outputs = lstm(x, lengths)          # Forward propagation\n",
    "        logits = outputs.view(-1)           # Flattening the output\n",
    "        loss = criterion(logits, labels)    # loss calculation\n",
    "        total_loss += loss\n",
    "        optimizer.zero_grad()               # Gradient clearing\n",
    "        loss.backward(retain_graph=True)    # Back propagation, calculating gradients\n",
    "        optimizer.step()                    # Gradient update\n",
    "        if (i+1) % 10 == 0:                                                                                                                                                            \n",
    "            print(\"epoch:{}, step:{}, loss:{}\".format(epoch+1, i+1, total_loss/10))\n",
    "            total_loss = 0\n",
    "    \n",
    "    # test\n",
    "    test()\n",
    "    \n",
    "    # save model\n",
    "    model_path = \"./model/lstm_{}.model\".format(epoch+1)\n",
    "    torch.save(lstm, model_path)\n",
    "    print(\"saved model: \", model_path)\n",
    "t = time.perf_counter()-t\n",
    "print(t)"
   ]
  },
  {
   "cell_type": "code",
   "execution_count": null,
   "id": "34453c4a",
   "metadata": {},
   "outputs": [],
   "source": []
  }
 ],
 "metadata": {
  "kernelspec": {
   "display_name": "base",
   "language": "python",
   "name": "base"
  },
  "language_info": {
   "codemirror_mode": {
    "name": "ipython",
    "version": 3
   },
   "file_extension": ".py",
   "mimetype": "text/x-python",
   "name": "python",
   "nbconvert_exporter": "python",
   "pygments_lexer": "ipython3",
   "version": "3.7.4"
  },
  "toc-autonumbering": false,
  "toc-showcode": false,
  "toc-showmarkdowntxt": false
 },
 "nbformat": 4,
 "nbformat_minor": 5
}
