{
 "cells": [
  {
   "cell_type": "code",
   "execution_count": 1,
   "id": "wound-sherman",
   "metadata": {},
   "outputs": [
    {
     "name": "stdout",
     "output_type": "stream",
     "text": [
      "Looking in indexes: https://mirrors.aliyun.com/pypi/simple\n",
      "Requirement already satisfied: xgboost in /environment/python/versions/miniconda3-4.7.12/lib/python3.7/site-packages (1.4.2)\n",
      "Requirement already satisfied: scipy in /environment/python/versions/miniconda3-4.7.12/lib/python3.7/site-packages (from xgboost) (1.5.2)\n",
      "Requirement already satisfied: numpy in /environment/python/versions/miniconda3-4.7.12/lib/python3.7/site-packages (from xgboost) (1.19.5)\n",
      "Note: you may need to restart the kernel to use updated packages.\n"
     ]
    }
   ],
   "source": [
    "pip install xgboost"
   ]
  },
  {
   "cell_type": "code",
   "execution_count": 2,
   "id": "hairy-language",
   "metadata": {},
   "outputs": [
    {
     "name": "stdout",
     "output_type": "stream",
     "text": [
      "Looking in indexes: https://mirrors.aliyun.com/pypi/simple\n",
      "Requirement already satisfied: gensim in /environment/python/versions/miniconda3-4.7.12/lib/python3.7/site-packages (4.0.1)\n",
      "Requirement already satisfied: smart-open>=1.8.1 in /environment/python/versions/miniconda3-4.7.12/lib/python3.7/site-packages (from gensim) (5.2.0)\n",
      "Requirement already satisfied: scipy>=0.18.1 in /environment/python/versions/miniconda3-4.7.12/lib/python3.7/site-packages (from gensim) (1.5.2)\n",
      "Requirement already satisfied: numpy>=1.11.3 in /environment/python/versions/miniconda3-4.7.12/lib/python3.7/site-packages (from gensim) (1.19.5)\n",
      "Note: you may need to restart the kernel to use updated packages.\n"
     ]
    }
   ],
   "source": [
    "pip install gensim"
   ]
  },
  {
   "cell_type": "code",
   "execution_count": 3,
   "id": "operational-butterfly",
   "metadata": {},
   "outputs": [
    {
     "name": "stdout",
     "output_type": "stream",
     "text": [
      "Looking in indexes: https://mirrors.aliyun.com/pypi/simple\n",
      "Collecting python-Levenshtein\n",
      "  Downloading https://mirrors.aliyun.com/pypi/packages/2a/dc/97f2b63ef0fa1fd78dcb7195aca577804f6b2b51e712516cc0e902a9a201/python-Levenshtein-0.12.2.tar.gz (50 kB)\n",
      "\u001b[K     |████████████████████████████████| 50 kB 2.4 MB/s eta 0:00:011\n",
      "\u001b[?25hRequirement already satisfied: setuptools in /environment/python/versions/miniconda3-4.7.12/lib/python3.7/site-packages (from python-Levenshtein) (41.4.0)\n",
      "Building wheels for collected packages: python-Levenshtein\n",
      "  Building wheel for python-Levenshtein (setup.py) ... \u001b[?25ldone\n",
      "\u001b[?25h  Created wheel for python-Levenshtein: filename=python_Levenshtein-0.12.2-cp37-cp37m-linux_x86_64.whl size=171676 sha256=c03b8fb3f8567e68f66aa6a9af4bd2dbf5f5f1ed27c06ab30b6f9959351ff3f2\n",
      "  Stored in directory: /home/featurize/.cache/pip/wheels/5f/35/e3/c8f279a73d74d36c4253da6d12b8ee33ba8443bb0cab7d0936\n",
      "Successfully built python-Levenshtein\n",
      "Installing collected packages: python-Levenshtein\n",
      "Successfully installed python-Levenshtein-0.12.2\n",
      "Note: you may need to restart the kernel to use updated packages.\n"
     ]
    }
   ],
   "source": [
    "pip install python-Levenshtein"
   ]
  },
  {
   "cell_type": "code",
   "execution_count": 1,
   "id": "ordinary-jerusalem",
   "metadata": {},
   "outputs": [],
   "source": [
    "import pandas as pd\n",
    "import time\n",
    "TRAIN_PATH = \"dataset/yelp_review_small/train.csv\"\n",
    "TEST_PATH = \"dataset/yelp_review_small/test.csv\"\n",
    "df_train = pd.read_csv(TRAIN_PATH, header=None)\n",
    "df_test = pd.read_csv(TEST_PATH, header=None)"
   ]
  },
  {
   "cell_type": "markdown",
   "id": "blocked-freedom",
   "metadata": {},
   "source": [
    "# Bayes"
   ]
  },
  {
   "cell_type": "code",
   "execution_count": 2,
   "id": "detected-philosophy",
   "metadata": {},
   "outputs": [],
   "source": [
    "from sklearn.feature_extraction.text import CountVectorizer\n",
    "vectorizer = CountVectorizer(token_pattern='\\[?\\w+\\]?')\n",
    "X_train = vectorizer.fit_transform(df_train[1])\n",
    "y_train = df_train[0]"
   ]
  },
  {
   "cell_type": "code",
   "execution_count": 3,
   "id": "alive-birth",
   "metadata": {},
   "outputs": [],
   "source": [
    "X_test = vectorizer.transform(df_test[1])\n",
    "y_test = df_test[0]"
   ]
  },
  {
   "cell_type": "code",
   "execution_count": 4,
   "id": "requested-filter",
   "metadata": {},
   "outputs": [
    {
     "data": {
      "text/plain": [
       "MultinomialNB(alpha=1.0, class_prior=None, fit_prior=True)"
      ]
     },
     "execution_count": 4,
     "metadata": {},
     "output_type": "execute_result"
    }
   ],
   "source": [
    "from sklearn.naive_bayes import MultinomialNB\n",
    "clf = MultinomialNB()\n",
    "clf.fit(X_train, y_train)"
   ]
  },
  {
   "cell_type": "code",
   "execution_count": 5,
   "id": "cutting-honolulu",
   "metadata": {},
   "outputs": [],
   "source": [
    "# Predicting results with the model on the test set\n",
    "y_pred = clf.predict(X_test)"
   ]
  },
  {
   "cell_type": "code",
   "execution_count": 6,
   "id": "technological-decrease",
   "metadata": {},
   "outputs": [
    {
     "name": "stdout",
     "output_type": "stream",
     "text": [
      "              precision    recall  f1-score   support\n",
      "\n",
      "           1       0.58      0.28      0.38        74\n",
      "           2       0.29      0.09      0.13        93\n",
      "           3       0.17      0.05      0.08       146\n",
      "           4       0.43      0.70      0.53       353\n",
      "           5       0.61      0.57      0.59       334\n",
      "\n",
      "    accuracy                           0.48      1000\n",
      "   macro avg       0.42      0.34      0.34      1000\n",
      "weighted avg       0.45      0.47      0.44      1000\n",
      "\n",
      "accuracy: 0.475\n"
     ]
    }
   ],
   "source": [
    "# Test set effect test\n",
    "from sklearn import metrics\n",
    "\n",
    "print(metrics.classification_report(y_test, y_pred))\n",
    "print(\"accuracy:\", metrics.accuracy_score(y_test, y_pred))"
   ]
  },
  {
   "cell_type": "markdown",
   "id": "muslim-instrumentation",
   "metadata": {},
   "source": [
    "# SVM"
   ]
  },
  {
   "cell_type": "code",
   "execution_count": 7,
   "id": "matched-officer",
   "metadata": {},
   "outputs": [],
   "source": [
    "from sklearn.feature_extraction.text import TfidfVectorizer\n",
    "vectorizer = TfidfVectorizer(token_pattern='\\[?\\w+\\]?')\n",
    "X_train = vectorizer.fit_transform(df_train[1])\n",
    "y_train = df_train[0]"
   ]
  },
  {
   "cell_type": "code",
   "execution_count": 8,
   "id": "respective-backup",
   "metadata": {},
   "outputs": [],
   "source": [
    "X_test = vectorizer.transform(df_test[1])\n",
    "y_test = df_test[0]"
   ]
  },
  {
   "cell_type": "code",
   "execution_count": 9,
   "id": "innocent-vertex",
   "metadata": {},
   "outputs": [
    {
     "name": "stdout",
     "output_type": "stream",
     "text": [
      "87.27177980728447\n"
     ]
    }
   ],
   "source": [
    "from sklearn import svm\n",
    "t = time.perf_counter()\n",
    "clf = svm.SVC(gamma='scale')\n",
    "clf.fit(X_train, y_train)\n",
    "t = time.perf_counter()-t\n",
    "print(t)"
   ]
  },
  {
   "cell_type": "code",
   "execution_count": 10,
   "id": "quiet-house",
   "metadata": {},
   "outputs": [],
   "source": [
    "# Predict results with the model on the test set\n",
    "y_pred = clf.predict(X_test)"
   ]
  },
  {
   "cell_type": "code",
   "execution_count": 11,
   "id": "substantial-stupid",
   "metadata": {},
   "outputs": [
    {
     "name": "stdout",
     "output_type": "stream",
     "text": [
      "              precision    recall  f1-score   support\n",
      "\n",
      "           1       0.66      0.31      0.42        74\n",
      "           2       0.40      0.18      0.25        93\n",
      "           3       0.45      0.14      0.21       146\n",
      "           4       0.46      0.66      0.54       353\n",
      "           5       0.62      0.68      0.65       334\n",
      "\n",
      "    accuracy                           0.52      1000\n",
      "   macro avg       0.52      0.39      0.41      1000\n",
      "weighted avg       0.52      0.52      0.49      1000\n",
      "\n",
      "accuracy: 0.52\n"
     ]
    }
   ],
   "source": [
    "# Test set effect test\n",
    "from sklearn import metrics\n",
    "print(metrics.classification_report(y_test, y_pred))\n",
    "print(\"accuracy:\", metrics.accuracy_score(y_test, y_pred))"
   ]
  },
  {
   "cell_type": "markdown",
   "id": "experimental-saturn",
   "metadata": {},
   "source": [
    "# XGboost"
   ]
  },
  {
   "cell_type": "code",
   "execution_count": 12,
   "id": "jewish-utilization",
   "metadata": {},
   "outputs": [],
   "source": [
    "from sklearn.feature_extraction.text import CountVectorizer\n",
    "vectorizer = CountVectorizer(token_pattern='\\[?\\w+\\]?', max_features=2000)\n",
    "X_train = vectorizer.fit_transform(df_train[1])\n",
    "y_train = df_train[0]"
   ]
  },
  {
   "cell_type": "code",
   "execution_count": 13,
   "id": "therapeutic-ensemble",
   "metadata": {},
   "outputs": [],
   "source": [
    "X_test = vectorizer.transform(df_test[1])\n",
    "y_test = df_test[0]"
   ]
  },
  {
   "cell_type": "code",
   "execution_count": 14,
   "id": "becoming-decline",
   "metadata": {},
   "outputs": [],
   "source": [
    "import xgboost as xgb\n",
    "param = {\n",
    "    'booster':'gbtree',\n",
    "    'max_depth': 6, \n",
    "    'colsample_bytree': 0.8,\n",
    "    'objective': 'multi:softmax',\n",
    "    'eval_metric': 'error',\n",
    "    'eta': 0.3,\n",
    "    'nthread': 10,\n",
    "    'num_class': 6,\n",
    "}\n",
    "dmatrix = xgb.DMatrix(X_train, label=y_train)\n",
    "model = xgb.train(param, dmatrix, num_boost_round=200)"
   ]
  },
  {
   "cell_type": "code",
   "execution_count": 15,
   "id": "recognized-exchange",
   "metadata": {},
   "outputs": [],
   "source": [
    "# Predict results with the model on the test set\n",
    "dmatrix = xgb.DMatrix(X_test)\n",
    "y_pred = model.predict(dmatrix)"
   ]
  },
  {
   "cell_type": "code",
   "execution_count": 16,
   "id": "confirmed-pointer",
   "metadata": {},
   "outputs": [
    {
     "name": "stdout",
     "output_type": "stream",
     "text": [
      "              precision    recall  f1-score   support\n",
      "\n",
      "           1       0.57      0.41      0.47        74\n",
      "           2       0.43      0.22      0.29        93\n",
      "           3       0.41      0.25      0.31       146\n",
      "           4       0.47      0.59      0.52       353\n",
      "           5       0.58      0.65      0.61       334\n",
      "\n",
      "    accuracy                           0.51      1000\n",
      "   macro avg       0.49      0.42      0.44      1000\n",
      "weighted avg       0.50      0.51      0.50      1000\n",
      "\n",
      "accuracy: 0.51\n"
     ]
    }
   ],
   "source": [
    "# Test set effect test\n",
    "from sklearn import metrics\n",
    "print(metrics.classification_report(y_test, y_pred))\n",
    "print(\"accuracy:\", metrics.accuracy_score(y_test, y_pred))"
   ]
  },
  {
   "cell_type": "markdown",
   "id": "celtic-corner",
   "metadata": {},
   "source": [
    "# LSTM"
   ]
  },
  {
   "cell_type": "code",
   "execution_count": 17,
   "id": "stainless-entertainment",
   "metadata": {},
   "outputs": [
    {
     "data": {
      "text/plain": [
       "0    [my, wife, took, me, here, on, my, birthday, f...\n",
       "1    [i, have, no, idea, why, some, people, give, b...\n",
       "2    [love, the, gyro, plate, ., rice, is, so, good...\n",
       "3    [rosie, ,, dakota, ,, and, i, love, chaparral,...\n",
       "4    [general, manager, scott, petello, is, a, good...\n",
       "Name: 1, dtype: object"
      ]
     },
     "execution_count": 17,
     "metadata": {},
     "output_type": "execute_result"
    }
   ],
   "source": [
    "# Input format required by word2vec: list(word)\n",
    "wv_input = df_train[1].map(lambda s: s.split(\" \"))\n",
    "wv_input.head()"
   ]
  },
  {
   "cell_type": "code",
   "execution_count": 18,
   "id": "natural-brick",
   "metadata": {},
   "outputs": [],
   "source": [
    "from gensim import models\n",
    "# Word2Vec \n",
    "word2vec = models.Word2Vec(wv_input, \n",
    "                           vector_size=64,   # Word vector dimension\n",
    "                           min_count=1,      # Minimum word frequency, because of the small amount of data, here card 1\n",
    "                           epochs=10)      # Ieration rounds"
   ]
  },
  {
   "cell_type": "code",
   "execution_count": 19,
   "id": "bacterial-spokesman",
   "metadata": {},
   "outputs": [],
   "source": [
    "import torch\n",
    "from torch import nn\n",
    "from torch.nn.utils.rnn import pad_sequence, pack_padded_sequence,pad_packed_sequence\n",
    "from torch.utils.data import Dataset, DataLoader\n",
    "device = torch.device(\"cuda\" if torch.cuda.is_available() else \"cpu\")"
   ]
  },
  {
   "cell_type": "code",
   "execution_count": 20,
   "id": "thermal-guard",
   "metadata": {},
   "outputs": [],
   "source": [
    "# Hyperparameters\n",
    "learning_rate = 5e-4\n",
    "input_size = 768\n",
    "num_epoches = 1\n",
    "batch_size = 100\n",
    "embed_size = 64\n",
    "hidden_size = 64\n",
    "num_layers = 2"
   ]
  },
  {
   "cell_type": "code",
   "execution_count": 21,
   "id": "eastern-sierra",
   "metadata": {},
   "outputs": [],
   "source": [
    "# Datasets\n",
    "class MyDataset(Dataset):\n",
    "    def __init__(self, df):\n",
    "        self.data = []\n",
    "        self.label = df[0].tolist()\n",
    "        for s in df[1].tolist():\n",
    "            vectors = []\n",
    "            for w in s.split(\" \"):\n",
    "                if w in word2vec.wv.key_to_index:\n",
    "                    vectors.append(word2vec.wv[w])\n",
    "            vectors = torch.Tensor(vectors)\n",
    "            self.data.append(vectors)\n",
    "    \n",
    "    def __getitem__(self, index):\n",
    "        data = self.data[index]\n",
    "        label = self.label[index]\n",
    "        return data, label\n",
    "\n",
    "    def __len__(self):\n",
    "        return len(self.label)\n",
    "\n",
    "def collate_fn(data):\n",
    "    data.sort(key=lambda x: len(x[0]), reverse=True) \n",
    "    data_length = [len(sq[0]) for sq in data]\n",
    "    x = [i[0] for i in data]\n",
    "    y = [i[1] for i in data]\n",
    "    data = pad_sequence(x, batch_first=True, padding_value=0)   # Necessary operations for processing variable-length sequences with RNN\n",
    "    return data, torch.tensor(y, dtype=torch.float32), data_length\n",
    "\n",
    "\n",
    "# Training set\n",
    "train_data = MyDataset(df_train)\n",
    "train_loader = DataLoader(train_data, batch_size=batch_size, collate_fn=collate_fn, shuffle=True)\n",
    "\n",
    "# Test sets\n",
    "test_data = MyDataset(df_test)\n",
    "test_loader = DataLoader(test_data, batch_size=batch_size, collate_fn=collate_fn, shuffle=True)"
   ]
  },
  {
   "cell_type": "code",
   "execution_count": 83,
   "id": "adverse-office",
   "metadata": {},
   "outputs": [
    {
     "data": {
      "text/plain": [
       "LSTM(\n",
       "  (lstm): LSTM(64, 64, num_layers=2, batch_first=True, bidirectional=True)\n",
       "  (fc): Linear(in_features=128, out_features=5, bias=True)\n",
       "  (softmax): Softmax(dim=1)\n",
       ")"
      ]
     },
     "execution_count": 83,
     "metadata": {},
     "output_type": "execute_result"
    }
   ],
   "source": [
    "# Network structure\n",
    "class LSTM(nn.Module):\n",
    "    def __init__(self, input_size, hidden_size, num_layers):\n",
    "        super(LSTM, self).__init__()\n",
    "        self.hidden_size = hidden_size\n",
    "        self.num_layers = num_layers\n",
    "        self.lstm = nn.LSTM(input_size, hidden_size, num_layers, batch_first=True, bidirectional=True)\n",
    "        self.fc = nn.Linear(hidden_size * 2, 5)  # Bidirectional, output dimension to be *2\n",
    "        self.softmax = nn.Softmax(dim=1)\n",
    "\n",
    "    def forward(self, x, lengths):\n",
    "        h0 = torch.zeros(self.num_layers * 2, x.size(0), self.hidden_size).to(device)  # Two-way, first dimension to be *2\n",
    "        c0 = torch.zeros(self.num_layers * 2, x.size(0), self.hidden_size).to(device)\n",
    "        \n",
    "        packed_input = torch.nn.utils.rnn.pack_padded_sequence(input=x, lengths=lengths, batch_first=True)\n",
    "        packed_out, (h_n, h_c) = self.lstm(packed_input, (h0, c0))\n",
    "\n",
    "        lstm_out = torch.cat([h_n[-2], h_n[-1]], 1)  # Bidirectional, so the last two dimensions are stitched together to give the output of the last time step\n",
    "        out = self.fc(lstm_out)\n",
    "        out = self.softmax(out)\n",
    "        return out\n",
    "\n",
    "lstm = LSTM(embed_size, hidden_size, num_layers)\n",
    "lstm.cuda()"
   ]
  },
  {
   "cell_type": "code",
   "execution_count": 180,
   "id": "corrected-thailand",
   "metadata": {},
   "outputs": [],
   "source": [
    "from sklearn import metrics\n",
    "# In test set effect test\n",
    "def test():\n",
    "    y_pred, y_true = [], []\n",
    "\n",
    "    with torch.no_grad():\n",
    "        for x, labels, lengths in test_loader:\n",
    "            x = x.to(device)\n",
    "            outputs = lstm(x, lengths)          # Forward propagation\n",
    "            #outputs = outputs.view(-1)          # Flattening the output\n",
    "            outputs = outputs.cpu()\n",
    "            y_pred.append(outputs)\n",
    "            y_true.append(labels)\n",
    "\n",
    "    y_prob = torch.cat(y_pred)\n",
    "    y_true = torch.cat(y_true)\n",
    "    y_pred = y_prob.clone()\n",
    "    \n",
    "    print(y_prob,torch.max(y_prob,dim=1))\n",
    "\n",
    "    #print(metrics.classification_report(y_true, y_pred))\n",
    "    #print(\"accuracy:\", metrics.accuracy_score(y_true, y_pred))"
   ]
  },
  {
   "cell_type": "code",
   "execution_count": 181,
   "id": "automotive-there",
   "metadata": {},
   "outputs": [
    {
     "name": "stdout",
     "output_type": "stream",
     "text": [
      "tensor([[0.2068, 0.1927, 0.1979, 0.1980, 0.2046],\n",
      "        [0.2055, 0.1863, 0.2046, 0.2019, 0.2017],\n",
      "        [0.1984, 0.1851, 0.2051, 0.2008, 0.2107],\n",
      "        ...,\n",
      "        [0.2113, 0.1867, 0.1987, 0.1966, 0.2067],\n",
      "        [0.2052, 0.1995, 0.2046, 0.1911, 0.1995],\n",
      "        [0.2140, 0.1902, 0.2075, 0.1970, 0.1913]]) torch.return_types.max(\n",
      "values=tensor([0.2068, 0.2055, 0.2107, 0.2121, 0.2074, 0.2081, 0.2142, 0.2135, 0.2121,\n",
      "        0.2110, 0.2071, 0.2056, 0.2097, 0.2077, 0.2085, 0.2182, 0.2076, 0.2079,\n",
      "        0.2096, 0.2069, 0.2081, 0.2093, 0.2128, 0.2074, 0.2111, 0.2070, 0.2110,\n",
      "        0.2153, 0.2115, 0.2076, 0.2068, 0.2062, 0.2131, 0.2089, 0.2100, 0.2139,\n",
      "        0.2102, 0.2190, 0.2045, 0.2119, 0.2102, 0.2120, 0.2083, 0.2087, 0.2126,\n",
      "        0.2129, 0.2065, 0.2092, 0.2135, 0.2080, 0.2058, 0.2181, 0.2147, 0.2180,\n",
      "        0.2100, 0.2149, 0.2157, 0.2110, 0.2081, 0.2070, 0.2060, 0.2131, 0.2136,\n",
      "        0.2116, 0.2087, 0.2061, 0.2096, 0.2085, 0.2068, 0.2125, 0.2088, 0.2069,\n",
      "        0.2155, 0.2044, 0.2132, 0.2084, 0.2116, 0.2066, 0.2068, 0.2065, 0.2093,\n",
      "        0.2094, 0.2077, 0.2051, 0.2080, 0.2125, 0.2091, 0.2068, 0.2053, 0.2076,\n",
      "        0.2128, 0.2059, 0.2081, 0.2143, 0.2090, 0.2116, 0.2098, 0.2096, 0.2157,\n",
      "        0.2136, 0.2068, 0.2139, 0.2071, 0.2043, 0.2092, 0.2113, 0.2145, 0.2147,\n",
      "        0.2067, 0.2051, 0.2076, 0.2081, 0.2111, 0.2091, 0.2125, 0.2123, 0.2109,\n",
      "        0.2062, 0.2089, 0.2055, 0.2097, 0.2091, 0.2061, 0.2087, 0.2069, 0.2107,\n",
      "        0.2095, 0.2063, 0.2077, 0.2115, 0.2046, 0.2114, 0.2080, 0.2092, 0.2065,\n",
      "        0.2092, 0.2088, 0.2134, 0.2068, 0.2065, 0.2168, 0.2085, 0.2101, 0.2075,\n",
      "        0.2110, 0.2153, 0.2084, 0.2154, 0.2041, 0.2093, 0.2076, 0.2073, 0.2104,\n",
      "        0.2100, 0.2087, 0.2097, 0.2067, 0.2086, 0.2097, 0.2080, 0.2073, 0.2126,\n",
      "        0.2055, 0.2144, 0.2073, 0.2143, 0.2088, 0.2111, 0.2081, 0.2052, 0.2062,\n",
      "        0.2101, 0.2067, 0.2091, 0.2080, 0.2063, 0.2149, 0.2103, 0.2054, 0.2068,\n",
      "        0.2099, 0.2070, 0.2118, 0.2076, 0.2124, 0.2069, 0.2102, 0.2144, 0.2100,\n",
      "        0.2083, 0.2153, 0.2072, 0.2083, 0.2073, 0.2102, 0.2077, 0.2137, 0.2065,\n",
      "        0.2108, 0.2089, 0.2072, 0.2086, 0.2060, 0.2079, 0.2100, 0.2120, 0.2051,\n",
      "        0.2079, 0.2063, 0.2130, 0.2100, 0.2108, 0.2080, 0.2066, 0.2074, 0.2111,\n",
      "        0.2114, 0.2148, 0.2125, 0.2066, 0.2086, 0.2146, 0.2093, 0.2089, 0.2073,\n",
      "        0.2047, 0.2122, 0.2123, 0.2079, 0.2128, 0.2057, 0.2089, 0.2072, 0.2118,\n",
      "        0.2103, 0.2106, 0.2089, 0.2083, 0.2078, 0.2087, 0.2092, 0.2091, 0.2083,\n",
      "        0.2085, 0.2071, 0.2116, 0.2101, 0.2067, 0.2104, 0.2058, 0.2134, 0.2094,\n",
      "        0.2072, 0.2144, 0.2127, 0.2064, 0.2088, 0.2126, 0.2111, 0.2057, 0.2055,\n",
      "        0.2100, 0.2076, 0.2102, 0.2093, 0.2154, 0.2074, 0.2111, 0.2124, 0.2068,\n",
      "        0.2091, 0.2089, 0.2064, 0.2128, 0.2068, 0.2144, 0.2100, 0.2096, 0.2085,\n",
      "        0.2111, 0.2098, 0.2122, 0.2119, 0.2127, 0.2078, 0.2066, 0.2087, 0.2082,\n",
      "        0.2069, 0.2098, 0.2135, 0.2067, 0.2135, 0.2085, 0.2090, 0.2113, 0.2134,\n",
      "        0.2150, 0.2087, 0.2080, 0.2095, 0.2092, 0.2121, 0.2123, 0.2125, 0.2118,\n",
      "        0.2097, 0.2082, 0.2064, 0.2114, 0.2109, 0.2056, 0.2061, 0.2061, 0.2079,\n",
      "        0.2108, 0.2082, 0.2126, 0.2130, 0.2142, 0.2064, 0.2067, 0.2097, 0.2096,\n",
      "        0.2097, 0.2070, 0.2147, 0.2083, 0.2087, 0.2181, 0.2142, 0.2110, 0.2094,\n",
      "        0.2086, 0.2067, 0.2123, 0.2136, 0.2079, 0.2097, 0.2052, 0.2085, 0.2139,\n",
      "        0.2113, 0.2108, 0.2093, 0.2149, 0.2071, 0.2100, 0.2102, 0.2082, 0.2084,\n",
      "        0.2119, 0.2079, 0.2055, 0.2093, 0.2088, 0.2092, 0.2096, 0.2152, 0.2121,\n",
      "        0.2058, 0.2059, 0.2111, 0.2047, 0.2136, 0.2111, 0.2127, 0.2079, 0.2119,\n",
      "        0.2071, 0.2092, 0.2043, 0.2080, 0.2057, 0.2096, 0.2100, 0.2096, 0.2076,\n",
      "        0.2123, 0.2102, 0.2102, 0.2129, 0.2081, 0.2088, 0.2147, 0.2109, 0.2088,\n",
      "        0.2090, 0.2139, 0.2159, 0.2106, 0.2131, 0.2151, 0.2119, 0.2088, 0.2064,\n",
      "        0.2106, 0.2111, 0.2091, 0.2053, 0.2075, 0.2054, 0.2117, 0.2098, 0.2130,\n",
      "        0.2098, 0.2118, 0.2094, 0.2138, 0.2078, 0.2054, 0.2036, 0.2064, 0.2106,\n",
      "        0.2096, 0.2090, 0.2090, 0.2082, 0.2107, 0.2131, 0.2105, 0.2084, 0.2092,\n",
      "        0.2120, 0.2078, 0.2084, 0.2051, 0.2081, 0.2069, 0.2068, 0.2060, 0.2110,\n",
      "        0.2087, 0.2075, 0.2124, 0.2077, 0.2078, 0.2146, 0.2084, 0.2103, 0.2084,\n",
      "        0.2127, 0.2083, 0.2168, 0.2095, 0.2086, 0.2106, 0.2112, 0.2077, 0.2096,\n",
      "        0.2036, 0.2065, 0.2162, 0.2135, 0.2066, 0.2076, 0.2056, 0.2057, 0.2096,\n",
      "        0.2067, 0.2157, 0.2085, 0.2108, 0.2102, 0.2057, 0.2089, 0.2104, 0.2099,\n",
      "        0.2073, 0.2090, 0.2060, 0.2095, 0.2197, 0.2117, 0.2097, 0.2145, 0.2086,\n",
      "        0.2070, 0.2046, 0.2068, 0.2055, 0.2117, 0.2113, 0.2134, 0.2093, 0.2115,\n",
      "        0.2091, 0.2104, 0.2121, 0.2138, 0.2087, 0.2101, 0.2066, 0.2080, 0.2131,\n",
      "        0.2126, 0.2064, 0.2111, 0.2124, 0.2094, 0.2079, 0.2128, 0.2114, 0.2087,\n",
      "        0.2086, 0.2073, 0.2109, 0.2099, 0.2147, 0.2064, 0.2114, 0.2058, 0.2124,\n",
      "        0.2157, 0.2096, 0.2077, 0.2146, 0.2072, 0.2167, 0.2103, 0.2084, 0.2182,\n",
      "        0.2063, 0.2059, 0.2169, 0.2089, 0.2079, 0.2101, 0.2079, 0.2117, 0.2084,\n",
      "        0.2082, 0.2064, 0.2085, 0.2072, 0.2115, 0.2068, 0.2087, 0.2092, 0.2073,\n",
      "        0.2062, 0.2114, 0.2093, 0.2137, 0.2075, 0.2062, 0.2067, 0.2098, 0.2190,\n",
      "        0.2135, 0.2116, 0.2084, 0.2132, 0.2100, 0.2080, 0.2076, 0.2055, 0.2063,\n",
      "        0.2037, 0.2172, 0.2062, 0.2082, 0.2093, 0.2142, 0.2096, 0.2147, 0.2124,\n",
      "        0.2091, 0.2108, 0.2058, 0.2062, 0.2102, 0.2092, 0.2182, 0.2112, 0.2059,\n",
      "        0.2087, 0.2115, 0.2120, 0.2062, 0.2135, 0.2122, 0.2046, 0.2100, 0.2107,\n",
      "        0.2093, 0.2122, 0.2114, 0.2083, 0.2080, 0.2116, 0.2119, 0.2107, 0.2034,\n",
      "        0.2088, 0.2078, 0.2068, 0.2101, 0.2085, 0.2109, 0.2085, 0.2129, 0.2171,\n",
      "        0.2085, 0.2081, 0.2078, 0.2071, 0.2094, 0.2167, 0.2114, 0.2069, 0.2106,\n",
      "        0.2066, 0.2073, 0.2095, 0.2047, 0.2155, 0.2076, 0.2186, 0.2143, 0.2043,\n",
      "        0.2095, 0.2078, 0.2089, 0.2152, 0.2056, 0.2122, 0.2071, 0.2095, 0.2116,\n",
      "        0.2054, 0.2048, 0.2111, 0.2073, 0.2093, 0.2137, 0.2075, 0.2201, 0.2048,\n",
      "        0.2082, 0.2074, 0.2064, 0.2125, 0.2152, 0.2089, 0.2143, 0.2078, 0.2040,\n",
      "        0.2080, 0.2064, 0.2062, 0.2090, 0.2100, 0.2160, 0.2138, 0.2074, 0.2086,\n",
      "        0.2112, 0.2098, 0.2103, 0.2117, 0.2100, 0.2086, 0.2111, 0.2130, 0.2106,\n",
      "        0.2115, 0.2108, 0.2078, 0.2111, 0.2115, 0.2079, 0.2122, 0.2102, 0.2117,\n",
      "        0.2096, 0.2065, 0.2139, 0.2172, 0.2136, 0.2122, 0.2070, 0.2101, 0.2069,\n",
      "        0.2127, 0.2085, 0.2097, 0.2089, 0.2054, 0.2145, 0.2132, 0.2078, 0.2073,\n",
      "        0.2124, 0.2066, 0.2065, 0.2126, 0.2093, 0.2050, 0.2072, 0.2116, 0.2094,\n",
      "        0.2120, 0.2074, 0.2081, 0.2074, 0.2086, 0.2069, 0.2112, 0.2118, 0.2150,\n",
      "        0.2094, 0.2132, 0.2092, 0.2062, 0.2129, 0.2080, 0.2160, 0.2089, 0.2113,\n",
      "        0.2092, 0.2117, 0.2102, 0.2115, 0.2075, 0.2154, 0.2066, 0.2139, 0.2064,\n",
      "        0.2146, 0.2070, 0.2075, 0.2083, 0.2058, 0.2101, 0.2086, 0.2055, 0.2066,\n",
      "        0.2135, 0.2083, 0.2136, 0.2122, 0.2117, 0.2100, 0.2087, 0.2092, 0.2046,\n",
      "        0.2101, 0.2178, 0.2146, 0.2167, 0.2094, 0.2086, 0.2112, 0.2085, 0.2086,\n",
      "        0.2082, 0.2083, 0.2090, 0.2147, 0.2127, 0.2082, 0.2094, 0.2105, 0.2044,\n",
      "        0.2063, 0.2128, 0.2067, 0.2137, 0.2123, 0.2155, 0.2128, 0.2138, 0.2099,\n",
      "        0.2084, 0.2145, 0.2103, 0.2098, 0.2087, 0.2107, 0.2145, 0.2142, 0.2084,\n",
      "        0.2114, 0.2066, 0.2069, 0.2101, 0.2109, 0.2117, 0.2086, 0.2107, 0.2141,\n",
      "        0.2140, 0.2094, 0.2083, 0.2085, 0.2100, 0.2077, 0.2087, 0.2133, 0.2098,\n",
      "        0.2116, 0.2083, 0.2092, 0.2127, 0.2122, 0.2086, 0.2081, 0.2070, 0.2055,\n",
      "        0.2068, 0.2093, 0.2134, 0.2048, 0.2072, 0.2110, 0.2086, 0.2091, 0.2104,\n",
      "        0.2111, 0.2090, 0.2143, 0.2126, 0.2059, 0.2121, 0.2066, 0.2072, 0.2119,\n",
      "        0.2103, 0.2076, 0.2074, 0.2086, 0.2143, 0.2047, 0.2091, 0.2087, 0.2057,\n",
      "        0.2116, 0.2062, 0.2127, 0.2105, 0.2074, 0.2112, 0.2062, 0.2171, 0.2102,\n",
      "        0.2090, 0.2071, 0.2074, 0.2068, 0.2070, 0.2115, 0.2083, 0.2089, 0.2071,\n",
      "        0.2150, 0.2080, 0.2140, 0.2069, 0.2126, 0.2073, 0.2069, 0.2081, 0.2070,\n",
      "        0.2153, 0.2062, 0.2081, 0.2097, 0.2131, 0.2065, 0.2100, 0.2093, 0.2092,\n",
      "        0.2060, 0.2090, 0.2081, 0.2106, 0.2074, 0.2076, 0.2074, 0.2126, 0.2081,\n",
      "        0.2080, 0.2148, 0.2120, 0.2070, 0.2054, 0.2073, 0.2089, 0.2123, 0.2040,\n",
      "        0.2110, 0.2096, 0.2100, 0.2106, 0.2134, 0.2080, 0.2088, 0.2092, 0.2097,\n",
      "        0.2091, 0.2039, 0.2134, 0.2086, 0.2083, 0.2098, 0.2103, 0.2139, 0.2062,\n",
      "        0.2089, 0.2139, 0.2074, 0.2039, 0.2096, 0.2125, 0.2090, 0.2102, 0.2109,\n",
      "        0.2094, 0.2165, 0.2063, 0.2081, 0.2041, 0.2103, 0.2077, 0.2158, 0.2105,\n",
      "        0.2092, 0.2170, 0.2213, 0.2105, 0.2156, 0.2089, 0.2086, 0.2085, 0.2103,\n",
      "        0.2107, 0.2109, 0.2101, 0.2153, 0.2088, 0.2112, 0.2054, 0.2097, 0.2123,\n",
      "        0.2114, 0.2098, 0.2061, 0.2123, 0.2099, 0.2102, 0.2064, 0.2094, 0.2102,\n",
      "        0.2169, 0.2079, 0.2118, 0.2099, 0.2071, 0.2096, 0.2136, 0.2063, 0.2125,\n",
      "        0.2096, 0.2076, 0.2100, 0.2115, 0.2092, 0.2136, 0.2084, 0.2085, 0.2054,\n",
      "        0.2102, 0.2097, 0.2142, 0.2125, 0.2123, 0.2064, 0.2081, 0.2108, 0.2132,\n",
      "        0.2082, 0.2088, 0.2096, 0.2061, 0.2085, 0.2089, 0.2107, 0.2072, 0.2114,\n",
      "        0.2065, 0.2110, 0.2099, 0.2069, 0.2089, 0.2043, 0.2144, 0.2113, 0.2052,\n",
      "        0.2140]),\n",
      "indices=tensor([0, 0, 4, 4, 4, 0, 4, 0, 2, 4, 4, 2, 2, 0, 0, 4, 2, 0, 4, 0, 4, 0, 4, 0,\n",
      "        0, 0, 4, 0, 0, 2, 0, 2, 0, 0, 0, 0, 0, 4, 0, 0, 4, 4, 4, 0, 4, 4, 0, 4,\n",
      "        0, 4, 4, 4, 4, 4, 0, 4, 4, 4, 4, 4, 4, 4, 0, 0, 4, 2, 4, 0, 0, 0, 4, 4,\n",
      "        0, 2, 4, 4, 0, 4, 0, 0, 4, 0, 4, 4, 0, 0, 4, 4, 2, 4, 4, 4, 0, 4, 2, 0,\n",
      "        4, 0, 4, 4, 4, 0, 0, 4, 0, 0, 4, 0, 2, 0, 0, 0, 0, 0, 4, 4, 0, 0, 0, 4,\n",
      "        0, 0, 0, 2, 0, 0, 0, 2, 0, 4, 4, 2, 0, 4, 4, 2, 0, 4, 4, 2, 2, 4, 2, 2,\n",
      "        0, 4, 4, 0, 4, 0, 2, 0, 0, 4, 0, 2, 4, 4, 4, 0, 0, 4, 0, 4, 0, 0, 0, 0,\n",
      "        4, 0, 0, 4, 0, 0, 0, 4, 4, 0, 0, 4, 0, 0, 4, 0, 0, 4, 0, 0, 2, 0, 2, 4,\n",
      "        0, 0, 0, 0, 0, 4, 4, 0, 0, 4, 0, 0, 4, 0, 4, 0, 4, 0, 0, 0, 4, 4, 0, 2,\n",
      "        4, 0, 4, 2, 0, 4, 0, 4, 0, 4, 0, 4, 0, 0, 2, 0, 4, 0, 4, 0, 0, 4, 2, 0,\n",
      "        0, 2, 0, 0, 0, 0, 0, 0, 0, 0, 4, 0, 4, 4, 0, 0, 4, 0, 0, 4, 2, 4, 2, 4,\n",
      "        4, 0, 4, 4, 4, 0, 0, 4, 4, 4, 4, 4, 0, 0, 4, 0, 0, 4, 0, 4, 0, 2, 2, 0,\n",
      "        2, 4, 4, 0, 0, 0, 0, 4, 0, 0, 0, 4, 0, 0, 4, 4, 4, 4, 0, 0, 4, 0, 0, 3,\n",
      "        0, 2, 0, 4, 4, 0, 0, 4, 0, 0, 0, 2, 4, 4, 4, 4, 2, 4, 4, 0, 0, 0, 0, 0,\n",
      "        0, 0, 4, 4, 0, 4, 4, 4, 4, 4, 0, 4, 4, 2, 2, 2, 4, 4, 2, 4, 4, 0, 0, 0,\n",
      "        0, 4, 4, 2, 4, 4, 4, 0, 0, 2, 0, 4, 2, 0, 4, 0, 0, 4, 0, 0, 2, 0, 4, 4,\n",
      "        0, 0, 4, 2, 0, 4, 0, 0, 4, 4, 0, 4, 0, 4, 0, 4, 0, 2, 0, 4, 4, 2, 0, 0,\n",
      "        2, 4, 0, 4, 2, 4, 0, 0, 4, 0, 0, 0, 0, 0, 4, 4, 0, 0, 2, 2, 4, 0, 0, 0,\n",
      "        4, 2, 0, 4, 4, 4, 4, 4, 2, 0, 4, 0, 0, 4, 4, 4, 0, 4, 2, 2, 4, 0, 0, 0,\n",
      "        4, 4, 4, 2, 4, 4, 4, 4, 2, 4, 4, 0, 4, 4, 4, 0, 4, 2, 4, 4, 4, 4, 4, 4,\n",
      "        3, 4, 2, 4, 2, 4, 0, 4, 4, 0, 4, 4, 0, 0, 0, 4, 0, 0, 4, 2, 0, 4, 4, 2,\n",
      "        4, 0, 2, 0, 4, 0, 4, 2, 0, 4, 0, 0, 0, 4, 0, 0, 4, 0, 4, 2, 4, 0, 0, 0,\n",
      "        0, 4, 0, 0, 0, 0, 0, 4, 0, 4, 0, 4, 0, 0, 4, 0, 4, 0, 4, 4, 4, 0, 4, 4,\n",
      "        4, 2, 0, 4, 2, 0, 4, 4, 4, 0, 0, 0, 4, 0, 4, 4, 0, 2, 2, 0, 4, 4, 4, 0,\n",
      "        2, 0, 4, 0, 0, 4, 4, 4, 0, 0, 4, 0, 4, 4, 4, 4, 0, 4, 4, 4, 4, 0, 0, 0,\n",
      "        4, 0, 4, 0, 0, 0, 0, 0, 0, 4, 4, 4, 0, 0, 0, 0, 4, 0, 4, 4, 0, 2, 4, 0,\n",
      "        4, 0, 4, 0, 0, 0, 4, 2, 0, 4, 0, 0, 0, 4, 0, 2, 0, 4, 0, 0, 4, 0, 0, 4,\n",
      "        0, 2, 0, 0, 2, 0, 4, 4, 4, 4, 4, 4, 0, 0, 4, 0, 0, 4, 4, 4, 2, 4, 4, 4,\n",
      "        4, 4, 3, 0, 4, 0, 4, 4, 2, 2, 4, 0, 4, 4, 0, 4, 4, 4, 4, 4, 0, 2, 0, 0,\n",
      "        4, 0, 2, 2, 0, 0, 4, 4, 0, 4, 4, 0, 4, 4, 4, 4, 0, 0, 0, 0, 4, 4, 4, 0,\n",
      "        0, 0, 2, 0, 2, 0, 4, 0, 0, 0, 4, 0, 0, 0, 4, 4, 0, 4, 4, 4, 4, 4, 0, 4,\n",
      "        4, 0, 4, 0, 4, 4, 0, 0, 0, 4, 4, 4, 4, 4, 0, 0, 0, 4, 0, 0, 2, 2, 0, 2,\n",
      "        0, 0, 0, 2, 4, 0, 0, 4, 2, 0, 0, 4, 4, 4, 0, 4, 0, 0, 4, 0, 4, 2, 4, 4,\n",
      "        4, 4, 4, 0, 0, 0, 0, 0, 2, 0, 4, 0, 4, 4, 2, 4, 0, 4, 4, 4, 0, 4, 0, 0,\n",
      "        2, 0, 4, 0, 0, 0, 4, 2, 0, 4, 0, 0, 0, 0, 4, 4, 0, 0, 0, 2, 0, 4, 2, 0,\n",
      "        0, 3, 4, 0, 4, 4, 4, 4, 3, 4, 4, 2, 2, 4, 4, 4, 0, 0, 4, 4, 0, 0, 0, 2,\n",
      "        4, 4, 4, 4, 0, 4, 3, 2, 0, 0, 0, 0, 4, 4, 4, 4, 0, 2, 0, 2, 0, 2, 4, 0,\n",
      "        0, 0, 4, 0, 4, 0, 0, 4, 0, 4, 2, 4, 4, 4, 0, 0, 4, 0, 4, 0, 4, 0, 0, 4,\n",
      "        4, 4, 0, 2, 0, 4, 4, 0, 0, 0, 3, 0, 0, 4, 0, 4, 0, 4, 0, 4, 2, 0, 0, 4,\n",
      "        0, 0, 4, 4, 0, 0, 0, 3, 0, 0, 2, 0, 4, 0, 4, 0, 4, 0, 4, 2, 0, 0, 0, 2,\n",
      "        4, 4, 4, 0, 0, 4, 0, 4, 4, 4, 0, 4, 4, 0, 4, 2, 4, 4, 2, 0, 0, 2, 0, 4,\n",
      "        3, 2, 4, 2, 4, 4, 4, 4, 0, 0, 2, 0, 0, 0, 0, 0]))\n"
     ]
    }
   ],
   "source": [
    "test()"
   ]
  },
  {
   "cell_type": "code",
   "execution_count": 63,
   "id": "worse-program",
   "metadata": {},
   "outputs": [],
   "source": [
    "# Define loss functions and optimisers\n",
    "criterion = CrossEntropyLoss()\n",
    "optimizer = torch.optim.Adam(lstm.parameters(), lr=learning_rate)"
   ]
  },
  {
   "cell_type": "code",
   "execution_count": 64,
   "id": "attended-trash",
   "metadata": {},
   "outputs": [
    {
     "ename": "ValueError",
     "evalue": "Using a target size (torch.Size([100])) that is different to the input size (torch.Size([500])) is deprecated. Please ensure they have the same size.",
     "output_type": "error",
     "traceback": [
      "\u001b[0;31m---------------------------------------------------------------------------\u001b[0m",
      "\u001b[0;31mValueError\u001b[0m                                Traceback (most recent call last)",
      "\u001b[0;32m<ipython-input-64-e13d328e1090>\u001b[0m in \u001b[0;36m<module>\u001b[0;34m\u001b[0m\n\u001b[1;32m      8\u001b[0m         \u001b[0moutputs\u001b[0m \u001b[0;34m=\u001b[0m \u001b[0mlstm\u001b[0m\u001b[0;34m(\u001b[0m\u001b[0mx\u001b[0m\u001b[0;34m,\u001b[0m \u001b[0mlengths\u001b[0m\u001b[0;34m)\u001b[0m          \u001b[0;31m# Forward propagation\u001b[0m\u001b[0;34m\u001b[0m\u001b[0;34m\u001b[0m\u001b[0m\n\u001b[1;32m      9\u001b[0m         \u001b[0mlogits\u001b[0m \u001b[0;34m=\u001b[0m \u001b[0moutputs\u001b[0m\u001b[0;34m.\u001b[0m\u001b[0mview\u001b[0m\u001b[0;34m(\u001b[0m\u001b[0;34m-\u001b[0m\u001b[0;36m1\u001b[0m\u001b[0;34m)\u001b[0m           \u001b[0;31m# Flattening the output\u001b[0m\u001b[0;34m\u001b[0m\u001b[0;34m\u001b[0m\u001b[0m\n\u001b[0;32m---> 10\u001b[0;31m         \u001b[0mloss\u001b[0m \u001b[0;34m=\u001b[0m \u001b[0mcriterion\u001b[0m\u001b[0;34m(\u001b[0m\u001b[0mlogits\u001b[0m\u001b[0;34m,\u001b[0m \u001b[0mlabels\u001b[0m\u001b[0;34m)\u001b[0m    \u001b[0;31m# loss calculation\u001b[0m\u001b[0;34m\u001b[0m\u001b[0;34m\u001b[0m\u001b[0m\n\u001b[0m\u001b[1;32m     11\u001b[0m         \u001b[0mtotal_loss\u001b[0m \u001b[0;34m+=\u001b[0m \u001b[0mloss\u001b[0m\u001b[0;34m\u001b[0m\u001b[0;34m\u001b[0m\u001b[0m\n\u001b[1;32m     12\u001b[0m         \u001b[0moptimizer\u001b[0m\u001b[0;34m.\u001b[0m\u001b[0mzero_grad\u001b[0m\u001b[0;34m(\u001b[0m\u001b[0;34m)\u001b[0m               \u001b[0;31m# Gradient clearing\u001b[0m\u001b[0;34m\u001b[0m\u001b[0;34m\u001b[0m\u001b[0m\n",
      "\u001b[0;32m/environment/python/versions/miniconda3-4.7.12/lib/python3.7/site-packages/torch/nn/modules/module.py\u001b[0m in \u001b[0;36m_call_impl\u001b[0;34m(self, *input, **kwargs)\u001b[0m\n\u001b[1;32m    887\u001b[0m             \u001b[0mresult\u001b[0m \u001b[0;34m=\u001b[0m \u001b[0mself\u001b[0m\u001b[0;34m.\u001b[0m\u001b[0m_slow_forward\u001b[0m\u001b[0;34m(\u001b[0m\u001b[0;34m*\u001b[0m\u001b[0minput\u001b[0m\u001b[0;34m,\u001b[0m \u001b[0;34m**\u001b[0m\u001b[0mkwargs\u001b[0m\u001b[0;34m)\u001b[0m\u001b[0;34m\u001b[0m\u001b[0;34m\u001b[0m\u001b[0m\n\u001b[1;32m    888\u001b[0m         \u001b[0;32melse\u001b[0m\u001b[0;34m:\u001b[0m\u001b[0;34m\u001b[0m\u001b[0;34m\u001b[0m\u001b[0m\n\u001b[0;32m--> 889\u001b[0;31m             \u001b[0mresult\u001b[0m \u001b[0;34m=\u001b[0m \u001b[0mself\u001b[0m\u001b[0;34m.\u001b[0m\u001b[0mforward\u001b[0m\u001b[0;34m(\u001b[0m\u001b[0;34m*\u001b[0m\u001b[0minput\u001b[0m\u001b[0;34m,\u001b[0m \u001b[0;34m**\u001b[0m\u001b[0mkwargs\u001b[0m\u001b[0;34m)\u001b[0m\u001b[0;34m\u001b[0m\u001b[0;34m\u001b[0m\u001b[0m\n\u001b[0m\u001b[1;32m    890\u001b[0m         for hook in itertools.chain(\n\u001b[1;32m    891\u001b[0m                 \u001b[0m_global_forward_hooks\u001b[0m\u001b[0;34m.\u001b[0m\u001b[0mvalues\u001b[0m\u001b[0;34m(\u001b[0m\u001b[0;34m)\u001b[0m\u001b[0;34m,\u001b[0m\u001b[0;34m\u001b[0m\u001b[0;34m\u001b[0m\u001b[0m\n",
      "\u001b[0;32m/environment/python/versions/miniconda3-4.7.12/lib/python3.7/site-packages/torch/nn/modules/loss.py\u001b[0m in \u001b[0;36mforward\u001b[0;34m(self, input, target)\u001b[0m\n\u001b[1;32m    611\u001b[0m     \u001b[0;32mdef\u001b[0m \u001b[0mforward\u001b[0m\u001b[0;34m(\u001b[0m\u001b[0mself\u001b[0m\u001b[0;34m,\u001b[0m \u001b[0minput\u001b[0m\u001b[0;34m:\u001b[0m \u001b[0mTensor\u001b[0m\u001b[0;34m,\u001b[0m \u001b[0mtarget\u001b[0m\u001b[0;34m:\u001b[0m \u001b[0mTensor\u001b[0m\u001b[0;34m)\u001b[0m \u001b[0;34m->\u001b[0m \u001b[0mTensor\u001b[0m\u001b[0;34m:\u001b[0m\u001b[0;34m\u001b[0m\u001b[0;34m\u001b[0m\u001b[0m\n\u001b[1;32m    612\u001b[0m         \u001b[0;32massert\u001b[0m \u001b[0mself\u001b[0m\u001b[0;34m.\u001b[0m\u001b[0mweight\u001b[0m \u001b[0;32mis\u001b[0m \u001b[0;32mNone\u001b[0m \u001b[0;32mor\u001b[0m \u001b[0misinstance\u001b[0m\u001b[0;34m(\u001b[0m\u001b[0mself\u001b[0m\u001b[0;34m.\u001b[0m\u001b[0mweight\u001b[0m\u001b[0;34m,\u001b[0m \u001b[0mTensor\u001b[0m\u001b[0;34m)\u001b[0m\u001b[0;34m\u001b[0m\u001b[0;34m\u001b[0m\u001b[0m\n\u001b[0;32m--> 613\u001b[0;31m         \u001b[0;32mreturn\u001b[0m \u001b[0mF\u001b[0m\u001b[0;34m.\u001b[0m\u001b[0mbinary_cross_entropy\u001b[0m\u001b[0;34m(\u001b[0m\u001b[0minput\u001b[0m\u001b[0;34m,\u001b[0m \u001b[0mtarget\u001b[0m\u001b[0;34m,\u001b[0m \u001b[0mweight\u001b[0m\u001b[0;34m=\u001b[0m\u001b[0mself\u001b[0m\u001b[0;34m.\u001b[0m\u001b[0mweight\u001b[0m\u001b[0;34m,\u001b[0m \u001b[0mreduction\u001b[0m\u001b[0;34m=\u001b[0m\u001b[0mself\u001b[0m\u001b[0;34m.\u001b[0m\u001b[0mreduction\u001b[0m\u001b[0;34m)\u001b[0m\u001b[0;34m\u001b[0m\u001b[0;34m\u001b[0m\u001b[0m\n\u001b[0m\u001b[1;32m    614\u001b[0m \u001b[0;34m\u001b[0m\u001b[0m\n\u001b[1;32m    615\u001b[0m \u001b[0;34m\u001b[0m\u001b[0m\n",
      "\u001b[0;32m/environment/python/versions/miniconda3-4.7.12/lib/python3.7/site-packages/torch/nn/functional.py\u001b[0m in \u001b[0;36mbinary_cross_entropy\u001b[0;34m(input, target, weight, size_average, reduce, reduction)\u001b[0m\n\u001b[1;32m   2753\u001b[0m         raise ValueError(\n\u001b[1;32m   2754\u001b[0m             \u001b[0;34m\"Using a target size ({}) that is different to the input size ({}) is deprecated. \"\u001b[0m\u001b[0;34m\u001b[0m\u001b[0;34m\u001b[0m\u001b[0m\n\u001b[0;32m-> 2755\u001b[0;31m             \u001b[0;34m\"Please ensure they have the same size.\"\u001b[0m\u001b[0;34m.\u001b[0m\u001b[0mformat\u001b[0m\u001b[0;34m(\u001b[0m\u001b[0mtarget\u001b[0m\u001b[0;34m.\u001b[0m\u001b[0msize\u001b[0m\u001b[0;34m(\u001b[0m\u001b[0;34m)\u001b[0m\u001b[0;34m,\u001b[0m \u001b[0minput\u001b[0m\u001b[0;34m.\u001b[0m\u001b[0msize\u001b[0m\u001b[0;34m(\u001b[0m\u001b[0;34m)\u001b[0m\u001b[0;34m)\u001b[0m\u001b[0;34m\u001b[0m\u001b[0;34m\u001b[0m\u001b[0m\n\u001b[0m\u001b[1;32m   2756\u001b[0m         )\n\u001b[1;32m   2757\u001b[0m \u001b[0;34m\u001b[0m\u001b[0m\n",
      "\u001b[0;31mValueError\u001b[0m: Using a target size (torch.Size([100])) that is different to the input size (torch.Size([500])) is deprecated. Please ensure they have the same size."
     ]
    }
   ],
   "source": [
    "# Iterative training\n",
    "t = time.perf_counter()\n",
    "for epoch in range(num_epoches):\n",
    "    total_loss = 0\n",
    "    for i, (x, labels, lengths) in enumerate(train_loader):\n",
    "        x = x.to(device)\n",
    "        labels = labels.to(device)\n",
    "        outputs = lstm(x, lengths)          # Forward propagation\n",
    "        logits = outputs.view(-1)           # Flattening the output\n",
    "        loss = criterion(logits, labels)    # loss calculation\n",
    "        total_loss += loss\n",
    "        optimizer.zero_grad()               # Gradient clearing\n",
    "        loss.backward(retain_graph=True)    # Back propagation, calculating gradients\n",
    "        optimizer.step()                    # Gradient update\n",
    "        if (i+1) % 10 == 0:                                                                                                                                                            \n",
    "            print(\"epoch:{}, step:{}, loss:{}\".format(epoch+1, i+1, total_loss/10))\n",
    "            total_loss = 0\n",
    "    \n",
    "    # test\n",
    "    test()"
   ]
  },
  {
   "cell_type": "code",
   "execution_count": null,
   "id": "increased-yorkshire",
   "metadata": {},
   "outputs": [],
   "source": []
  }
 ],
 "metadata": {
  "kernelspec": {
   "display_name": "base",
   "language": "python",
   "name": "base"
  },
  "language_info": {
   "codemirror_mode": {
    "name": "ipython",
    "version": 3
   },
   "file_extension": ".py",
   "mimetype": "text/x-python",
   "name": "python",
   "nbconvert_exporter": "python",
   "pygments_lexer": "ipython3",
   "version": "3.7.4"
  }
 },
 "nbformat": 4,
 "nbformat_minor": 5
}
